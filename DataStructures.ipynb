{
  "nbformat": 4,
  "nbformat_minor": 0,
  "metadata": {
    "colab": {
      "name": "DataStructures.ipynb",
      "provenance": [],
      "collapsed_sections": [],
      "include_colab_link": true
    },
    "kernelspec": {
      "name": "python3",
      "display_name": "Python 3"
    },
    "language_info": {
      "name": "python"
    }
  },
  "cells": [
    {
      "cell_type": "markdown",
      "metadata": {
        "id": "view-in-github",
        "colab_type": "text"
      },
      "source": [
        "<a href=\"https://colab.research.google.com/github/Mayakshanesht/Data-Structures/blob/main/DataStructures.ipynb\" target=\"_parent\"><img src=\"https://colab.research.google.com/assets/colab-badge.svg\" alt=\"Open In Colab\"/></a>"
      ]
    },
    {
      "cell_type": "code",
      "execution_count": null,
      "metadata": {
        "colab": {
          "base_uri": "https://localhost:8080/"
        },
        "id": "q6Q9Iq5kjSPP",
        "outputId": "508d841d-fd9f-4698-ab71-8ff908d5ffec"
      },
      "outputs": [
        {
          "output_type": "stream",
          "name": "stdout",
          "text": [
            "(1, 2, 3, 4)\n",
            "1\n",
            "does not support assignment\n",
            "(1, 2, 3, 4)\n",
            "8\n",
            "[1000, 3, 5, 7, 4, 1, 2, 6, 10]\n",
            "[1, 2, 3, 4, 5, 6, 7, 10, 1000]\n",
            "[200, 1000, 10, 7, 6, 5, 4, 3, 2, 1]\n",
            "[200, 1000, 10, 7, 6, 5, 4, 3, 2, 1, [2, 3, 4]]\n",
            "[200, 1000, 10, 7, 6, 5, 4, 3, 2, 1, [2, 3, 4], 2, 3, 4]\n",
            "[200, 1000, 10, 7, 6, 5, 4, 3, 2, 1, [2, 3, 4], 2, 3, 4]\n",
            "[10000, 200, 1000, 10, 7, 6, 5, 4, 3, 2, 1, [2, 3, 4], 2, 3, 4]\n",
            "2\n",
            "[200, 1000, 10, 7, 6, 5, 4, 3, 2, 1, [2, 3, 4], 2, 3, 4]\n",
            "200\n",
            "[2000, 1000, 10, 7, 6, 5, 4, 3, 2, 1, [2, 3, 4], 2, 3, 4]\n",
            "[]\n",
            "['M', 'a', 'r', 'u', 'y']\n",
            "1\n"
          ]
        }
      ],
      "source": [
        "#Tuple- Immutable\n",
        "M=(1,2,3,4)\n",
        "print(M)\n",
        "print(M[0])\n",
        "try:\n",
        "  M[0]=3\n",
        "except:\n",
        "  print(SyntaxError('does not support assignment'))\n",
        "print(M)\n",
        "#list or Python array:\n",
        "#Mutable This data structure is generally extended form of collection, but here all the data elements are given some index for recognition/identification\n",
        "# Array: Arrays are a quite similar to lists, and expressed in a square bracket\n",
        "A=[1,3,5,7,4,1,2,6]\n",
        "print(len(A))\n",
        "A.append(10)\n",
        "A[0]=1000\n",
        "print(A)\n",
        "A.sort()\n",
        "print(A)\n",
        "A.append(200)\n",
        "A.reverse()\n",
        "print(A)\n",
        "z=[2,3,4]\n",
        "A.append(z)\n",
        "print(A)\n",
        "A.extend(z)\n",
        "print(A)\n",
        "A.copy()\n",
        "print(A)\n",
        "A.insert(0,10000)\n",
        "print(A)\n",
        "print(A.count(4))\n",
        "A.pop(0)\n",
        "print(A)\n",
        "Z=A[0]\n",
        "print(Z)\n",
        "A[0]=2000\n",
        "print(A)\n",
        "A.clear()\n",
        "print(A)\n",
        "c='Mayur'\n",
        "B=sorted(c)\n",
        "print(B)\n",
        "D=(1,3,5,5,4,2)\n",
        "#D[0]=2\n",
        "print(D[0])"
      ]
    },
    {
      "cell_type": "markdown",
      "source": [
        "Sets and Dictionary"
      ],
      "metadata": {
        "id": "7AGYWjaKj-ht"
      }
    },
    {
      "cell_type": "code",
      "source": [
        "# Set- Unique Elements\n",
        "N={1,2,3,4,5,4,5}\n",
        "print(type(N))\n",
        "print(N)\n",
        "# Dictionaries: unique keys:value pair\n",
        "NN={'Name':'Mayur','SUrname':'Waghchoure','birthdate':5}\n",
        "print(type(NN))\n",
        "print(NN['Name'])\n",
        "NN['Job']='AD Software Engineer'\n",
        "print(NN)"
      ],
      "metadata": {
        "colab": {
          "base_uri": "https://localhost:8080/"
        },
        "id": "-C10GL4ymPn2",
        "outputId": "cfe4d2d7-bce7-4f9c-ae4c-f99bd8b5f06c"
      },
      "execution_count": null,
      "outputs": [
        {
          "output_type": "stream",
          "name": "stdout",
          "text": [
            "<class 'set'>\n",
            "{1, 2, 3, 4, 5}\n",
            "<class 'dict'>\n",
            "Mayur\n",
            "{'Name': 'Mayur', 'SUrname': 'Waghchoure', 'birthdate': 5, 'Job': 'AD Software Engineer'}\n"
          ]
        }
      ]
    },
    {
      "cell_type": "markdown",
      "source": [
        "LinkedList"
      ],
      "metadata": {
        "id": "Ydt86LS9j8cn"
      }
    },
    {
      "cell_type": "code",
      "source": [
        "class Node(object):\n",
        "    def __init__(self,data):\n",
        "        self.data=data\n",
        "        self.next=None\n",
        "class LinkedList(object):\n",
        "    def __init__(self):\n",
        "        self.head=None\n",
        "    def printList(self):\n",
        "        temp=self.head\n",
        "        if temp:\n",
        "            while temp:\n",
        "                print(temp.data)\n",
        "                temp=temp.next\n",
        "if __name__=='__main__':\n",
        "    LList=LinkedList()\n",
        "    LList.head=Node(1)\n",
        "    second=Node(2)\n",
        "    third=Node(3)\n",
        "    LList.head.next=second;\n",
        "    second.next=third;\n",
        "    LList.printList()"
      ],
      "metadata": {
        "colab": {
          "base_uri": "https://localhost:8080/"
        },
        "id": "I5zWYHjvj3t2",
        "outputId": "aa943fff-7ec6-4755-a66e-ce79d237805d"
      },
      "execution_count": null,
      "outputs": [
        {
          "output_type": "stream",
          "name": "stdout",
          "text": [
            "1\n",
            "2\n",
            "3\n"
          ]
        }
      ]
    },
    {
      "cell_type": "markdown",
      "source": [
        "Stack\n",
        "1. Create a class Node with instance variables data and next.\n",
        "2. Create a class Stack with instance variable head.\n",
        "3. The variable head points to the first element in the linked list.\n",
        "4. Define methods push and pop inside the class Stack.\n",
        "5. The method push adds a node at the front of the linked list.\n",
        "6. The method pop returns the data of the node at the front of the linked list and removes the node. It returns None if there are no nodes.\n",
        "7. Create an instance of Stack and present a menu to the user to perform operations on the stack."
      ],
      "metadata": {
        "id": "82QtPfbUkHjs"
      }
    },
    {
      "cell_type": "code",
      "source": [
        "class Node(object):\n",
        "    def __init__(self, value):\n",
        "        self.value = value\n",
        "        self.next = None\n",
        "\n",
        "class LinkedList(object):\n",
        "    def __init__(self, head=None):\n",
        "        self.head = head\n",
        "\n",
        "    def insert_first(self, new_element):\n",
        "        new_element.next = self.head\n",
        "        self.head = new_element\n",
        "\n",
        "    def delete_first(self):\n",
        "        if self.head:\n",
        "            deleted_element = self.head\n",
        "            temp = deleted_element.next\n",
        "            self.head = temp\n",
        "            return deleted_element\n",
        "        else:\n",
        "            return None\n",
        "    def printList(self):\n",
        "        temp=self.head\n",
        "        if temp:\n",
        "            while temp:\n",
        "                print(temp.value)\n",
        "                temp=temp.next\n",
        "class Stack(object):\n",
        "    def __init__(self,top=None):\n",
        "        self.ll = LinkedList(top)\n",
        "\n",
        "    def push(self, new_element):\n",
        "        self.ll.insert_first(new_element)\n",
        "\n",
        "    def pop(self):\n",
        "        return self.ll.delete_first()\n",
        "    def print(self):\n",
        "        return self.ll.printList()\n",
        "if __name__=='__main__':\n",
        "    stack=Stack()\n",
        "    first=Node(3)\n",
        "    second=Node(2)\n",
        "    third=Node(1)\n",
        "    fourth=Node(4)\n",
        "    stack.push(first)\n",
        "    stack.push(second)\n",
        "    stack.push(third)\n",
        "    stack.push(fourth)\n",
        "    stack.print()\n",
        "    stack.pop()\n",
        "    stack.print()\n",
        "\n",
        "#stack using list or array\n",
        "L=[1,2,3]\n",
        "L.append(4)\n",
        "print(L)\n",
        "L.pop(3)\n",
        "print(L)"
      ],
      "metadata": {
        "colab": {
          "base_uri": "https://localhost:8080/"
        },
        "id": "ln5XxiPekHyJ",
        "outputId": "11abb1bb-a822-47bc-a4f2-39d4ce56426f"
      },
      "execution_count": 1,
      "outputs": [
        {
          "output_type": "stream",
          "name": "stdout",
          "text": [
            "4\n",
            "1\n",
            "2\n",
            "3\n",
            "1\n",
            "2\n",
            "3\n",
            "[1, 2, 3, 4]\n",
            "[1, 2, 3]\n"
          ]
        }
      ]
    },
    {
      "cell_type": "markdown",
      "source": [
        "Queue"
      ],
      "metadata": {
        "id": "F9_3KHFXkIQf"
      }
    },
    {
      "cell_type": "code",
      "source": [
        "class Queue(object):\n",
        "    def __init__(self, head=None):\n",
        "        self.storage = [head]\n",
        "    def print(self):\n",
        "        return(print(self.storage))\n",
        "\n",
        "    def enqueue(self, new_element):\n",
        "        self.storage.append(new_element)\n",
        "\n",
        "    def peek(self):\n",
        "        #print(self.storage[0])\n",
        "        return self.storage[0]\n",
        "\n",
        "    def dequeue(self):\n",
        "        return self.storage.pop(0)\n",
        "if __name__=='__main__':\n",
        "    Queue1=Queue()\n",
        "    Queue1.enqueue(1)\n",
        "    Queue1.enqueue(2)\n",
        "    Queue1.enqueue(3)\n",
        "    print(Queue1.peek())\n",
        "    Queue1.dequeue()\n",
        "    Queue1.dequeue()\n",
        "    Queue1.print()\n"
      ],
      "metadata": {
        "colab": {
          "base_uri": "https://localhost:8080/"
        },
        "id": "y_A0BCQTkIeV",
        "outputId": "8dd59830-8453-40a2-884f-4ceb3e9ec22a"
      },
      "execution_count": null,
      "outputs": [
        {
          "output_type": "stream",
          "name": "stdout",
          "text": [
            "None\n",
            "[2, 3]\n"
          ]
        }
      ]
    },
    {
      "cell_type": "markdown",
      "source": [
        "Queue using a linkedlist\n",
        "1. Create a class Node with instance variables data and next.\n",
        "2. Create a class Queue with instance variables head and last.\n",
        "3. The variable head points to the first element in the linked list while last points to the last element.\n",
        "4. Define methods enqueue and dequeue inside the class Queue.\n",
        "5. The method enqueue adds a node at the end of the linked list.\n",
        "6. The method dequeue returns the data of the node at the front of the linked list and removes the node. It returns None if there are no nodes.\n",
        "7. Create an instance of Queue and present a menu to the user to perform operations on the queue."
      ],
      "metadata": {
        "id": "B86jE5uKt87Q"
      }
    },
    {
      "cell_type": "code",
      "source": [
        "class Node:\n",
        "    def __init__(self, data):\n",
        "       self.data = data\n",
        "       self.next = None\n",
        " \n",
        "class Queue:\n",
        "    def __init__(self):\n",
        "        self.head = None\n",
        "        self.last = None\n",
        " \n",
        "    def enqueue(self, data):\n",
        "        if self.last is None:\n",
        "            self.head = Node(data)\n",
        "            self.last = self.head\n",
        "        else:\n",
        "            self.last.next = Node(data)\n",
        "            self.last = self.last.next\n",
        " \n",
        "    def dequeue(self):\n",
        "        if self.head is None:\n",
        "            return None\n",
        "        else:\n",
        "            to_return = self.head.data\n",
        "            self.head = self.head.next\n",
        "            return to_return\n",
        " \n",
        "a_queue = Queue()\n",
        "while True:\n",
        "    print('enqueue <value>')\n",
        "    print('dequeue')\n",
        "    print('quit')\n",
        "    do = input('What would you like to do? ').split()\n",
        " \n",
        "    operation = do[0].strip().lower()\n",
        "    if operation == 'enqueue':\n",
        "        a_queue.enqueue(int(do[1]))\n",
        "    elif operation == 'dequeue':\n",
        "        dequeued = a_queue.dequeue()\n",
        "        if dequeued is None:\n",
        "            print('Queue is empty.')\n",
        "        else:\n",
        "            print('Dequeued element: ', int(dequeued))\n",
        "    elif operation == 'quit':\n",
        "        break"
      ],
      "metadata": {
        "colab": {
          "base_uri": "https://localhost:8080/"
        },
        "id": "gfqeynytuBEb",
        "outputId": "2cf1e2b9-4379-4394-939c-0db0e7a10e60"
      },
      "execution_count": null,
      "outputs": [
        {
          "name": "stdout",
          "output_type": "stream",
          "text": [
            "enqueue <value>\n",
            "dequeue\n",
            "quit\n",
            "What would you like to do? enqueue 10\n",
            "enqueue <value>\n",
            "dequeue\n",
            "quit\n",
            "What would you like to do? enqueue 20\n",
            "enqueue <value>\n",
            "dequeue\n",
            "quit\n",
            "What would you like to do? dequeue\n",
            "Dequeued element:  10\n",
            "enqueue <value>\n",
            "dequeue\n",
            "quit\n",
            "What would you like to do? quit\n"
          ]
        }
      ]
    },
    {
      "cell_type": "markdown",
      "source": [
        "Trees"
      ],
      "metadata": {
        "id": "3xo_NwA-kWA4"
      }
    },
    {
      "cell_type": "code",
      "source": [
        "class Node(object):\n",
        "    def __init__(self, value):\n",
        "        self.value = value\n",
        "        self.left = None\n",
        "        self.right = None\n",
        "\n",
        "class BinaryTree(object):\n",
        "    def __init__(self, root):\n",
        "        self.root = Node(root)\n",
        "\n",
        "    def search(self, find_val):\n",
        "        return self.preorder_search(tree.root, find_val)\n",
        "\n",
        "    def print_tree(self):\n",
        "        return self.preorder_print(tree.root, \"\")[:-1]\n",
        "\n",
        "    def preorder_search(self, start, find_val):\n",
        "        if start:\n",
        "            if start.value == find_val:\n",
        "                return True\n",
        "            else:\n",
        "                return self.preorder_search(start.left, find_val) or self.preorder_search(start.right, find_val)\n",
        "        return False\n",
        "\n",
        "    def preorder_print(self, start, traversal):\n",
        "        if start:\n",
        "            traversal += (str(start.value) + \"-\")\n",
        "            traversal = self.preorder_print(start.left, traversal)\n",
        "            traversal = self.preorder_print(start.right, traversal)\n",
        "        return traversal\n",
        "# Set up tree\n",
        "tree = BinaryTree(1)\n",
        "tree.root.left = Node(2)\n",
        "tree.root.right = Node(3)\n",
        "tree.root.left.left = Node(4)\n",
        "tree.root.left.right = Node(5)\n",
        "\n",
        "# Test search\n",
        "# Should be True\n",
        "tree.search(4)\n",
        "# Should be False\n",
        "tree.search(6)\n",
        "\n",
        "# Test print_tree\n",
        "# Should be 1-2-4-5-3\n",
        "tree.print_tree()\n",
        "\n"
      ],
      "metadata": {
        "colab": {
          "base_uri": "https://localhost:8080/",
          "height": 35
        },
        "id": "fmPfb-lukWU3",
        "outputId": "d0afcbb7-2f53-4621-d505-b4bd287fe25b"
      },
      "execution_count": null,
      "outputs": [
        {
          "output_type": "execute_result",
          "data": {
            "application/vnd.google.colaboratory.intrinsic+json": {
              "type": "string"
            },
            "text/plain": [
              "'1-2-4-5-3'"
            ]
          },
          "metadata": {},
          "execution_count": 16
        }
      ]
    },
    {
      "cell_type": "markdown",
      "source": [
        "Binary Search Tree"
      ],
      "metadata": {
        "id": "x2MEIp1VkhbO"
      }
    },
    {
      "cell_type": "code",
      "source": [
        "class Node(object):\n",
        "    def __init__(self, value):\n",
        "        self.value = value\n",
        "        self.left = None\n",
        "        self.right = None\n",
        "\n",
        "class BST(object):\n",
        "    def __init__(self, root):\n",
        "        self.root = Node(root)\n",
        "\n",
        "    def insert(self, new_val):\n",
        "        self.insert_helper(self.root, new_val)\n",
        "\n",
        "    def insert_helper(self, current, new_val):\n",
        "        if current.value < new_val:\n",
        "            if current.right:\n",
        "                self.insert_helper(current.right, new_val)\n",
        "            else:\n",
        "                current.right = Node(new_val)\n",
        "        else:\n",
        "            if current.left:\n",
        "                self.insert_helper(current.left, new_val)\n",
        "            else:\n",
        "                current.left = Node(new_val)\n",
        "\n",
        "    def search(self, find_val):\n",
        "        return self.search_helper(self.root, find_val)\n",
        "\n",
        "    def search_helper(self, current, find_val):\n",
        "        if current:\n",
        "            if current.value == find_val:\n",
        "                return True\n",
        "            elif current.value < find_val:\n",
        "                return self.search_helper(current.right, find_val)\n",
        "            else:\n",
        "                return self.search_helper(current.left, find_val)\n",
        "        return False\n",
        "    \n",
        "    def print_tree(self):\n",
        "        return self.preorder_print(tree.root, \"\")[:-1]\n",
        "\n",
        "    def preorder_print(self, start, traversal):\n",
        "        if start:\n",
        "            traversal += (str(start.value) + \"-\")\n",
        "            traversal = self.preorder_print(start.left, traversal)\n",
        "            traversal = self.preorder_print(start.right, traversal)\n",
        "        return traversal\n",
        "if __name__=='__main__':\n",
        "    # Set up tree\n",
        "    tree = BST(4)\n",
        "\n",
        "# Insert elements\n",
        "    tree.insert(2)\n",
        "    tree.insert(1)\n",
        "    tree.insert(3)\n",
        "    tree.insert(5)\n",
        "    print(tree.print_tree())\n",
        "\n",
        "# Check search\n",
        "# Should be True\n",
        "    x=tree.search(4)\n",
        "    print(x)\n",
        "# Should be False\n",
        "    y=tree.search(6)\n",
        "    print(y)"
      ],
      "metadata": {
        "colab": {
          "base_uri": "https://localhost:8080/"
        },
        "id": "BJY1cbn8lYL8",
        "outputId": "54f61459-bc4a-482e-ed76-39cb5cf86d94"
      },
      "execution_count": null,
      "outputs": [
        {
          "output_type": "stream",
          "name": "stdout",
          "text": [
            "4-2-1-3-5\n",
            "True\n",
            "False\n"
          ]
        }
      ]
    },
    {
      "cell_type": "markdown",
      "source": [
        "Heap: minHeap and MaxHeap"
      ],
      "metadata": {
        "id": "cTQh_veGbJ-y"
      }
    },
    {
      "cell_type": "code",
      "source": [
        "from heapq import heapify, heappush, heappop\n",
        " \n",
        "# Creating empty heap\n",
        "heap = []\n",
        "heapify(heap)\n",
        " \n",
        "# Adding items to the heap using heappush function\n",
        "heappush(heap, 10)\n",
        "heappush(heap, 30)\n",
        "heappush(heap, 20)\n",
        "heappush(heap, 400)\n",
        " \n",
        "# printing the value of minimum element\n",
        "print(\"Head value of heap : \"+str(heap[0]))\n",
        " \n",
        "# printing the elements of the heap\n",
        "print(\"The heap elements : \")\n",
        "for i in heap:\n",
        "    print(i, end = ' ')\n",
        "print(\"\\n\")\n",
        " \n",
        "element = heappop(heap)\n",
        " \n",
        "# printing the elements of the heap\n",
        "print(\"The heap elements : \")\n",
        "for i in heap:\n",
        "    print(i, end = ' ')"
      ],
      "metadata": {
        "colab": {
          "base_uri": "https://localhost:8080/"
        },
        "id": "S9_X_ovoJT0C",
        "outputId": "3a11edb0-40a6-4d46-b21a-7f80bfef816c"
      },
      "execution_count": null,
      "outputs": [
        {
          "output_type": "stream",
          "name": "stdout",
          "text": [
            "Head value of heap : 10\n",
            "The heap elements : \n",
            "10 30 20 400 \n",
            "\n",
            "The heap elements : \n",
            "20 30 400 "
          ]
        }
      ]
    },
    {
      "cell_type": "code",
      "source": [
        "from heapq import heappop, heappush, heapify\n",
        "  \n",
        "# Creating empty heap\n",
        "heap = []\n",
        "heapify(heap)\n",
        "  \n",
        "# Adding items to the heap using heappush\n",
        "# function by multiplying them with -1\n",
        "heappush(heap, -1 * 10)\n",
        "heappush(heap, -1 * 30)\n",
        "heappush(heap, -1 * 20)\n",
        "heappush(heap, -1 * 400)\n",
        "  \n",
        "# printing the value of maximum element\n",
        "print(\"Head value of heap : \"+str(-1 * heap[0]))\n",
        "  \n",
        "# printing the elements of the heap\n",
        "print(\"The heap elements : \")\n",
        "for i in heap:\n",
        "    print(-1 * i, end = ' ')\n",
        "print(\"\\n\")\n",
        "  \n",
        "element = heappop(heap)\n",
        "  \n",
        "# printing the elements of the heap\n",
        "print(\"The heap elements : \")\n",
        "for i in heap:\n",
        "    print(-1 * i, end = ' ')"
      ],
      "metadata": {
        "colab": {
          "base_uri": "https://localhost:8080/"
        },
        "id": "3DR5DQdoJqt5",
        "outputId": "cc3fb9bc-7ebd-4140-d5b0-7a1f049f2a1e"
      },
      "execution_count": null,
      "outputs": [
        {
          "output_type": "stream",
          "name": "stdout",
          "text": [
            "Head value of heap : 400\n",
            "The heap elements : \n",
            "400 30 20 10 \n",
            "\n",
            "The heap elements : \n",
            "30 10 20 "
          ]
        }
      ]
    },
    {
      "cell_type": "markdown",
      "source": [
        "Hashing and Hash Maps"
      ],
      "metadata": {
        "id": "_lKOYdy2laGz"
      }
    },
    {
      "cell_type": "code",
      "source": [
        "class HashTable(object):\n",
        "    def __init__(self):\n",
        "        self.table = [None]*10000\n",
        "    def print(self):\n",
        "        print(self.table)   #print(self.table)\n",
        "\n",
        "    def store(self, string):\n",
        "        hv = self.calculate_hash_value(string)\n",
        "        if hv != -1:\n",
        "            if self.table[hv] != None:\n",
        "                self.table[hv].append(string)\n",
        "            else:\n",
        "                self.table[hv] = [string]\n",
        "\n",
        "    def lookup(self, string):\n",
        "        hv = self.calculate_hash_value(string)\n",
        "        if hv != -1:\n",
        "            if self.table[hv] != None:\n",
        "                if string in self.table[hv]:\n",
        "                    print(\"we have found it\")\n",
        "                    return hv\n",
        "        return -1\n",
        "\n",
        "    def calculate_hash_value(self, string):\n",
        "        value = ord(string[0])*100 + ord(string[1])\n",
        "        return value\n",
        "\n",
        "if __name__=='__main__':\n",
        "    hm=HashTable()\n",
        "  \n",
        "    hm.store('Mayur')\n",
        "   \n",
        "    hm.lookup('Mayur')\n",
        " "
      ],
      "metadata": {
        "colab": {
          "base_uri": "https://localhost:8080/"
        },
        "id": "pfGhmmqVlacT",
        "outputId": "494b81ee-a7f4-4f3d-e53c-f486cb2cf1f2"
      },
      "execution_count": null,
      "outputs": [
        {
          "output_type": "stream",
          "name": "stdout",
          "text": [
            "we have found it\n"
          ]
        }
      ]
    },
    {
      "cell_type": "markdown",
      "source": [
        "Graphs"
      ],
      "metadata": {
        "id": "3fQv_3-rluGQ"
      }
    },
    {
      "cell_type": "code",
      "source": [
        "class Node(object):\n",
        "    def __init__(self, value):\n",
        "        self.value = value\n",
        "        self.edges = []\n",
        "        self.visited = False\n",
        "\n",
        "class Edge(object):\n",
        "    def __init__(self, value, node_from, node_to):\n",
        "        self.value = value\n",
        "        self.node_from = node_from\n",
        "        self.node_to = node_to\n",
        "\n",
        "class Graph(object):\n",
        "    def __init__(self, nodes=None, edges=None):\n",
        "        self.nodes = nodes or []\n",
        "        self.edges = edges or []\n",
        "        self.node_names = []\n",
        "        self._node_map = {}\n",
        "\n",
        "    def set_node_names(self, names):\n",
        "        \"\"\"The Nth name in names should correspond to node number N.\n",
        "        Node numbers are 0 based (starting at 0).\n",
        "        \"\"\"\n",
        "        self.node_names = list(names)\n",
        "\n",
        "    def insert_node(self, new_node_val):\n",
        "        \"Insert a new node with value new_node_val\"\n",
        "        new_node = Node(new_node_val)\n",
        "        self.nodes.append(new_node)\n",
        "        self._node_map[new_node_val] = new_node\n",
        "        return new_node\n",
        "\n",
        "    def insert_edge(self, new_edge_val, node_from_val, node_to_val):\n",
        "        \"Insert a new edge, creating new nodes if necessary\"\n",
        "        nodes = {node_from_val: None, node_to_val: None}\n",
        "        for node in self.nodes:\n",
        "            if node.value in nodes:\n",
        "                nodes[node.value] = node\n",
        "                if all(nodes.values()):\n",
        "                    break\n",
        "        for node_val in nodes:\n",
        "            nodes[node_val] = nodes[node_val] or self.insert_node(node_val)\n",
        "        node_from = nodes[node_from_val]\n",
        "        node_to = nodes[node_to_val]\n",
        "        new_edge = Edge(new_edge_val, node_from, node_to)\n",
        "        node_from.edges.append(new_edge)\n",
        "        node_to.edges.append(new_edge)\n",
        "        self.edges.append(new_edge)\n",
        "\n",
        "    def get_edge_list(self):\n",
        "        \"\"\"Return a list of triples that looks like this:\n",
        "        (Edge Value, From Node, To Node)\"\"\"\n",
        "        return [(e.value, e.node_from.value, e.node_to.value)\n",
        "                for e in self.edges]\n",
        "\n",
        "    def get_edge_list_names(self):\n",
        "        \"\"\"Return a list of triples that looks like this:\n",
        "        (Edge Value, From Node Name, To Node Name)\"\"\"\n",
        "        return [(edge.value,\n",
        "                 self.node_names[edge.node_from.value],\n",
        "                 self.node_names[edge.node_to.value])\n",
        "                for edge in self.edges]\n",
        "\n",
        "    def get_adjacency_list(self):\n",
        "        \"\"\"Return a list of lists.\n",
        "        The indecies of the outer list represent \"from\" nodes.\n",
        "        Each section in the list will store a list\n",
        "        of tuples that looks like this:\n",
        "        (To Node, Edge Value)\"\"\"\n",
        "        max_index = self.find_max_index()\n",
        "        adjacency_list = [[] for _ in range(max_index)]\n",
        "        for edg in self.edges:\n",
        "            from_value, to_value = edg.node_from.value, edg.node_to.value\n",
        "            adjacency_list[from_value].append((to_value, edg.value))\n",
        "        return [a or None for a in adjacency_list] # replace []'s with None\n",
        "\n",
        "    def get_adjacency_list_names(self):\n",
        "        \"\"\"Each section in the list will store a list\n",
        "        of tuples that looks like this:\n",
        "        (To Node Name, Edge Value).\n",
        "        Node names should come from the names set\n",
        "        with set_node_names.\"\"\"\n",
        "        adjacency_list = self.get_adjacency_list()\n",
        "        def convert_to_names(pair, graph=self):\n",
        "            node_number, value = pair\n",
        "            return (graph.node_names[node_number], value)\n",
        "        def map_conversion(adjacency_list_for_node):\n",
        "            if adjacency_list_for_node is None:\n",
        "                return None\n",
        "            return map(convert_to_names, adjacency_list_for_node)\n",
        "        return [map_conversion(adjacency_list_for_node)\n",
        "                for adjacency_list_for_node in adjacency_list]\n",
        "\n",
        "    def get_adjacency_matrix(self):\n",
        "        \"\"\"Return a matrix, or 2D list.\n",
        "        Row numbers represent from nodes,\n",
        "        column numbers represent to nodes.\n",
        "        Store the edge values in each spot,\n",
        "        and a 0 if no edge exists.\"\"\"\n",
        "        max_index = self.find_max_index()\n",
        "        adjacency_matrix = [[0] * (max_index) for _ in range(max_index)]\n",
        "        for edg in self.edges:\n",
        "            from_index, to_index = edg.node_from.value, edg.node_to.value\n",
        "            adjacency_matrix[from_index][to_index] = edg.value\n",
        "        return adjacency_matrix\n",
        "\n",
        "    def find_max_index(self):\n",
        "        \"\"\"Return the highest found node number\n",
        "        Or the length of the node names if set with set_node_names().\"\"\"\n",
        "        if len(self.node_names) > 0:\n",
        "            return len(self.node_names)\n",
        "        max_index = -1\n",
        "        if len(self.nodes):\n",
        "            for node in self.nodes:\n",
        "                if node.value > max_index:\n",
        "                    max_index = node.value\n",
        "        return max_index\n",
        "\n",
        "    def find_node(self, node_number):\n",
        "        \"Return the node with value node_number or None\"\n",
        "        return self._node_map.get(node_number)\n",
        "    \n",
        "    def _clear_visited(self):\n",
        "        for node in self.nodes:\n",
        "            node.visited = False\n",
        "\n",
        "    def dfs_helper(self, start_node):\n",
        "        \"\"\"TODO: Write the helper function for a recursive implementation\n",
        "        of Depth First Search iterating through a node's edges. The\n",
        "        output should be a list of numbers corresponding to the\n",
        "        values of the traversed nodes.\n",
        "        ARGUMENTS: start_node is the starting Node\n",
        "        MODIFIES: the value of the visited property of nodes in self.nodes \n",
        "        RETURN: a list of the traversed node values (integers).\n",
        "        \"\"\"\n",
        "        ret_list = [start_node.value]\n",
        "        # Your code here\n",
        "        return ret_list\n",
        "\n",
        "    def dfs(self, start_node_num):\n",
        "        \"\"\"Outputs a list of numbers corresponding to the traversed nodes\n",
        "        in a Depth First Search.\n",
        "        ARGUMENTS: start_node_num is the starting node number (integer)\n",
        "        MODIFIES: the value of the visited property of nodes in self.nodes\n",
        "        RETURN: a list of the node values (integers).\"\"\"\n",
        "        self._clear_visited()\n",
        "        start_node = self.find_node(start_node_num)\n",
        "        return self.dfs_helper(start_node)\n",
        "\n",
        "    def dfs_names(self, start_node_num):\n",
        "        \"\"\"Return the results of dfs with numbers converted to names.\"\"\"\n",
        "        return [self.node_names[num] for num in self.dfs(start_node_num)]\n",
        "\n",
        "    def bfs(self, start_node_num):\n",
        "        \"\"\"TODO: Create an iterative implementation of Breadth First Search\n",
        "        iterating through a node's edges. The output should be a list of\n",
        "        numbers corresponding to the traversed nodes.\n",
        "        ARGUMENTS: start_node_num is the node number (integer)\n",
        "        MODIFIES: the value of the visited property of nodes in self.nodes\n",
        "        RETURN: a list of the node values (integers).\"\"\"\n",
        "        node = self.find_node(start_node_num)\n",
        "        self._clear_visited()\n",
        "        ret_list = [node.value]\n",
        "        # Your code here\n",
        "        return ret_list\n",
        "\n",
        "    def bfs_names(self, start_node_num):\n",
        "        \"\"\"Return the results of bfs with numbers converted to names.\"\"\"\n",
        "        return [self.node_names[num] for num in self.bfs(start_node_num)]\n",
        "\n",
        "graph = Graph()\n",
        "\n",
        "# You do not need to change anything below this line.\n",
        "# You only need to implement Graph.dfs_helper and Graph.bfs\n",
        "\n",
        "graph.set_node_names(('Mountain View',   # 0\n",
        "                      'San Francisco',   # 1\n",
        "                      'London',          # 2\n",
        "                      'Shanghai',        # 3\n",
        "                      'Berlin',          # 4\n",
        "                      'Sao Paolo',       # 5\n",
        "                      'Bangalore'))      # 6 \n",
        "\n",
        "graph.insert_edge(51, 0, 1)     # MV <-> SF\n",
        "graph.insert_edge(51, 1, 0)     # SF <-> MV\n",
        "graph.insert_edge(9950, 0, 3)   # MV <-> Shanghai\n",
        "graph.insert_edge(9950, 3, 0)   # Shanghai <-> MV\n",
        "graph.insert_edge(10375, 0, 5)  # MV <-> Sao Paolo\n",
        "graph.insert_edge(10375, 5, 0)  # Sao Paolo <-> MV\n",
        "graph.insert_edge(9900, 1, 3)   # SF <-> Shanghai\n",
        "graph.insert_edge(9900, 3, 1)   # Shanghai <-> SF\n",
        "graph.insert_edge(9130, 1, 4)   # SF <-> Berlin\n",
        "graph.insert_edge(9130, 4, 1)   # Berlin <-> SF\n",
        "graph.insert_edge(9217, 2, 3)   # London <-> Shanghai\n",
        "graph.insert_edge(9217, 3, 2)   # Shanghai <-> London\n",
        "graph.insert_edge(932, 2, 4)    # London <-> Berlin\n",
        "graph.insert_edge(932, 4, 2)    # Berlin <-> London\n",
        "graph.insert_edge(9471, 2, 5)   # London <-> Sao Paolo\n",
        "graph.insert_edge(9471, 5, 2)   # Sao Paolo <-> London\n",
        "# (6) 'Bangalore' is intentionally disconnected (no edges)\n",
        "# for this problem and should produce None in the\n",
        "# Adjacency List, etc.\n",
        "\n",
        "import pprint\n",
        "pp = pprint.PrettyPrinter(indent=2)\n",
        "\n",
        "print (\"Edge List\")\n",
        "pp.pprint(graph.get_edge_list_names())\n",
        "\n",
        "print (\"\\nAdjacency List\")\n",
        "pp.pprint(graph.get_adjacency_list_names())\n",
        "\n",
        "print (\"\\nAdjacency Matrix\")\n",
        "pp.pprint(graph.get_adjacency_matrix())\n",
        "\n",
        "print (\"\\nDepth First Search\")\n",
        "pp.pprint(graph.dfs_names(2))\n",
        "\n",
        "# Should print:\n",
        "# Depth First Search\n",
        "# ['London', 'Shanghai', 'Mountain View', 'San Francisco', 'Berlin', 'Sao Paolo']\n",
        "\n",
        "print (\"\\nBreadth First Search\")\n",
        "pp.pprint(graph.bfs_names(2))\n",
        "# test error reporting\n",
        "# pp.pprint(['Sao Paolo', 'Mountain View', 'San Francisco', 'London', 'Shanghai', 'Berlin'])\n",
        "\n",
        "# Should print:\n",
        "# Breadth First Search\n",
        "# ['London', 'Shanghai', 'Berlin', 'Sao Paolo', 'Mountain View', 'San Francisco']\n",
        "class Graph(object):\n",
        "\n",
        "    def dfs_helper(self, start_node):\n",
        "        \"\"\"The helper function for a recursive implementation\n",
        "        of Depth First Search iterating through a node's edges. The\n",
        "        output should be a list of numbers corresponding to the\n",
        "        values of the traversed nodes.\n",
        "        ARGUMENTS: start_node is the starting Node\n",
        "        REQUIRES: self._clear_visited() to be called before\n",
        "        MODIFIES: the value of the visited property of nodes in self.nodes \n",
        "        RETURN: a list of the traversed node values (integers).\n",
        "        \"\"\"\n",
        "        ret_list = [start_node.value]\n",
        "        start_node.visited = True\n",
        "        edges_out = [e for e in start_node.edges\n",
        "                     if e.node_to.value != start_node.value]\n",
        "        for edge in edges_out:\n",
        "            if not edge.node_to.visited:\n",
        "                ret_list.extend(self.dfs_helper(edge.node_to))\n",
        "        return ret_list\n",
        "\n",
        "    def bfs(self, start_node_num):\n",
        "        \"\"\"An iterative implementation of Breadth First Search\n",
        "        iterating through a node's edges. The output should be a list of\n",
        "        numbers corresponding to the traversed nodes.\n",
        "        ARGUMENTS: start_node_num is the node number (integer)\n",
        "        MODIFIES: the value of the visited property of nodes in self.nodes\n",
        "        RETURN: a list of the node values (integers).\"\"\"\n",
        "        node = self.find_node(start_node_num)\n",
        "        self._clear_visited()\n",
        "        ret_list = []\n",
        "        # Your code here\n",
        "        queue = [node]\n",
        "        node.visited = True\n",
        "        def enqueue(n, q=queue):\n",
        "            n.visited = True\n",
        "            q.append(n)\n",
        "        def unvisited_outgoing_edge(n, e):\n",
        "            return ((e.node_from.value == n.value) and\n",
        "                    (not e.node_to.visited))\n",
        "        while queue:\n",
        "            node = queue.pop(0)\n",
        "            ret_list.append(node.value)\n",
        "            for e in node.edges:\n",
        "                if unvisited_outgoing_edge(node, e):\n",
        "                    enqueue(e.node_to)\n",
        "        return ret_list"
      ],
      "metadata": {
        "colab": {
          "base_uri": "https://localhost:8080/"
        },
        "id": "viUzQ67tluX6",
        "outputId": "228f3a5e-a8d2-4464-cf94-09c303a5c8f1"
      },
      "execution_count": null,
      "outputs": [
        {
          "output_type": "stream",
          "name": "stdout",
          "text": [
            "Edge List\n",
            "[ (51, 'Mountain View', 'San Francisco'),\n",
            "  (51, 'San Francisco', 'Mountain View'),\n",
            "  (9950, 'Mountain View', 'Shanghai'),\n",
            "  (9950, 'Shanghai', 'Mountain View'),\n",
            "  (10375, 'Mountain View', 'Sao Paolo'),\n",
            "  (10375, 'Sao Paolo', 'Mountain View'),\n",
            "  (9900, 'San Francisco', 'Shanghai'),\n",
            "  (9900, 'Shanghai', 'San Francisco'),\n",
            "  (9130, 'San Francisco', 'Berlin'),\n",
            "  (9130, 'Berlin', 'San Francisco'),\n",
            "  (9217, 'London', 'Shanghai'),\n",
            "  (9217, 'Shanghai', 'London'),\n",
            "  (932, 'London', 'Berlin'),\n",
            "  (932, 'Berlin', 'London'),\n",
            "  (9471, 'London', 'Sao Paolo'),\n",
            "  (9471, 'Sao Paolo', 'London')]\n",
            "\n",
            "Adjacency List\n",
            "[ <map object at 0x7f8bbf015090>,\n",
            "  <map object at 0x7f8bbf015110>,\n",
            "  <map object at 0x7f8bbf015190>,\n",
            "  <map object at 0x7f8bbf015210>,\n",
            "  <map object at 0x7f8bbf015290>,\n",
            "  <map object at 0x7f8bbf015350>,\n",
            "  None]\n",
            "\n",
            "Adjacency Matrix\n",
            "[ [0, 51, 0, 9950, 0, 10375, 0],\n",
            "  [51, 0, 0, 9900, 9130, 0, 0],\n",
            "  [0, 0, 0, 9217, 932, 9471, 0],\n",
            "  [9950, 9900, 9217, 0, 0, 0, 0],\n",
            "  [0, 9130, 932, 0, 0, 0, 0],\n",
            "  [10375, 0, 9471, 0, 0, 0, 0],\n",
            "  [0, 0, 0, 0, 0, 0, 0]]\n",
            "\n",
            "Depth First Search\n",
            "['London']\n",
            "\n",
            "Breadth First Search\n",
            "['London']\n"
          ]
        }
      ]
    },
    {
      "cell_type": "markdown",
      "source": [
        "Time complexity analysis"
      ],
      "metadata": {
        "id": "7V89XOdnBD6-"
      }
    },
    {
      "cell_type": "code",
      "source": [
        "import time\n",
        "ti=time.time()\n",
        "a0=0\n",
        "N=100\n",
        "for i in range(1,N):\n",
        "  a0=a0+i\n",
        "  print(a0)\n",
        "print(a0)\n",
        "to=time.time()\n",
        "print(to-ti)"
      ],
      "metadata": {
        "colab": {
          "base_uri": "https://localhost:8080/"
        },
        "id": "jNxydnwF_vv-",
        "outputId": "80fe3914-4da6-490f-8567-8b1502398dae"
      },
      "execution_count": null,
      "outputs": [
        {
          "output_type": "stream",
          "name": "stdout",
          "text": [
            "1\n",
            "3\n",
            "6\n",
            "10\n",
            "15\n",
            "21\n",
            "28\n",
            "36\n",
            "45\n",
            "55\n",
            "66\n",
            "78\n",
            "91\n",
            "105\n",
            "120\n",
            "136\n",
            "153\n",
            "171\n",
            "190\n",
            "210\n",
            "231\n",
            "253\n",
            "276\n",
            "300\n",
            "325\n",
            "351\n",
            "378\n",
            "406\n",
            "435\n",
            "465\n",
            "496\n",
            "528\n",
            "561\n",
            "595\n",
            "630\n",
            "666\n",
            "703\n",
            "741\n",
            "780\n",
            "820\n",
            "861\n",
            "903\n",
            "946\n",
            "990\n",
            "1035\n",
            "1081\n",
            "1128\n",
            "1176\n",
            "1225\n",
            "1275\n",
            "1326\n",
            "1378\n",
            "1431\n",
            "1485\n",
            "1540\n",
            "1596\n",
            "1653\n",
            "1711\n",
            "1770\n",
            "1830\n",
            "1891\n",
            "1953\n",
            "2016\n",
            "2080\n",
            "2145\n",
            "2211\n",
            "2278\n",
            "2346\n",
            "2415\n",
            "2485\n",
            "2556\n",
            "2628\n",
            "2701\n",
            "2775\n",
            "2850\n",
            "2926\n",
            "3003\n",
            "3081\n",
            "3160\n",
            "3240\n",
            "3321\n",
            "3403\n",
            "3486\n",
            "3570\n",
            "3655\n",
            "3741\n",
            "3828\n",
            "3916\n",
            "4005\n",
            "4095\n",
            "4186\n",
            "4278\n",
            "4371\n",
            "4465\n",
            "4560\n",
            "4656\n",
            "4753\n",
            "4851\n",
            "4950\n",
            "4950\n",
            "0.00983738899230957\n"
          ]
        }
      ]
    }
  ]
}